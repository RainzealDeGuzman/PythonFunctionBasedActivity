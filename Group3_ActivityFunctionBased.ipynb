{
 "cells": [
  {
   "cell_type": "code",
   "execution_count": 1,
   "id": "8d0a6821-19f5-41ff-966e-d153d8f76466",
   "metadata": {},
   "outputs": [
    {
     "name": "stdin",
     "output_type": "stream",
     "text": [
      "Enter the first number:  25\n",
      "Enter the second number:  75\n",
      "Enter the third number:  150\n"
     ]
    },
    {
     "name": "stdout",
     "output_type": "stream",
     "text": [
      "The total of the three numbers is: 250.00\n",
      "The average of the three numbers is: 83.33\n"
     ]
    }
   ],
   "source": [
    "def calculate_total_and_average():\n",
    "    # Ask the user to enter three numbers\n",
    "    num1 = float(input(\"Enter the first number: \"))\n",
    "    num2 = float(input(\"Enter the second number: \"))\n",
    "    num3 = float(input(\"Enter the third number: \"))\n",
    "\n",
    "    # Calculate the total and average\n",
    "    total = num1 + num2 + num3\n",
    "    average = total / 3\n",
    "\n",
    "    # Display the total and average\n",
    "    print(\"The total of the three numbers is: {0:.2f}\".format(total))\n",
    "    print(\"The average of the three numbers is: {0:.2f}\".format(average))\n",
    "\n",
    "# Call the function\n",
    "calculate_total_and_average()"
   ]
  },
  {
   "cell_type": "code",
   "execution_count": 3,
   "id": "666f2422-bb58-47fd-a542-54c8e9c6c1a5",
   "metadata": {},
   "outputs": [
    {
     "name": "stdin",
     "output_type": "stream",
     "text": [
      "Enter the price of the meal:  299\n",
      "Enter the percent tip you want to leave:  10\n"
     ]
    },
    {
     "name": "stdout",
     "output_type": "stream",
     "text": [
      "The tip amount is: 29\n",
      "The total bill with the tip included is: 328\n"
     ]
    }
   ],
   "source": [
    "def calculate_tip_and_total():\n",
    "    # Ask the user for the price of the meal\n",
    "    meal_price = float(input(\"Enter the price of the meal: \"))\n",
    "\n",
    "    # Ask the user for the percent tip they want to leave\n",
    "    tip_percent = float(input(\"Enter the percent tip you want to leave: \"))\n",
    "\n",
    "    # Calculate the tip amount\n",
    "    tip_amount = meal_price * (tip_percent / 100)\n",
    "\n",
    "    # Calculate the total bill with the tip included\n",
    "    total_bill = meal_price + tip_amount\n",
    "\n",
    "    # Print the tip amount and the total bill with the tip included\n",
    "    print(\"The tip amount is: %d\" % tip_amount)\n",
    "    print(\"The total bill with the tip included is: %d\" % total_bill)\n",
    "\n",
    "# Call the function\n",
    "calculate_tip_and_total()\n"
   ]
  },
  {
   "cell_type": "code",
   "execution_count": 4,
   "id": "582cfcd0-4167-4071-8539-0c40e69d24ca",
   "metadata": {},
   "outputs": [
    {
     "name": "stdin",
     "output_type": "stream",
     "text": [
      "Enter a length in centimeters:  300\n"
     ]
    },
    {
     "name": "stdout",
     "output_type": "stream",
     "text": [
      "The length in inches is: 118.11\n"
     ]
    }
   ],
   "source": [
    "def convert_cm_to_inches():\n",
    "    # Ask the user to enter a length in centimeters\n",
    "    length_cm = float(input(\"Enter a length in centimeters: \"))\n",
    "\n",
    "    # Check if the user enters a negative length\n",
    "    if length_cm < 0:\n",
    "        print(\"The entry is invalid. Length cannot be negative.\")\n",
    "    else:\n",
    "        # Convert the length to inches\n",
    "        length_in = length_cm / 2.54\n",
    "\n",
    "        # Print out the result\n",
    "        print(\"The length in inches is: {0:.2f}\".format(length_in))\n",
    "\n",
    "# Call the function\n",
    "convert_cm_to_inches()"
   ]
  },
  {
   "cell_type": "code",
   "execution_count": 2,
   "id": "ae6f271e-0ddd-4951-a542-a684661ce50b",
   "metadata": {},
   "outputs": [
    {
     "name": "stdin",
     "output_type": "stream",
     "text": [
      "Enter the radius of the cylinder:  50\n",
      "Enter the length of the cylinder:  30\n"
     ]
    },
    {
     "name": "stdout",
     "output_type": "stream",
     "text": [
      "The area of the cylinder is: 7853.981633974483\n",
      "The volume of the cylinder is: 235619.44901923448\n"
     ]
    }
   ],
   "source": [
    "import math\n",
    "\n",
    "def calculate_cylinder_properties():\n",
    "    # Ask the user to enter the radius and length of a cylinder\n",
    "    radius = float(input(\"Enter the radius of the cylinder: \"))\n",
    "    length = float(input(\"Enter the length of the cylinder: \"))\n",
    "\n",
    "    # Compute the area and volume\n",
    "    area = radius * radius * math.pi\n",
    "    volume = area * length\n",
    "\n",
    "    # Print out the results\n",
    "    print(\"The area of the cylinder is: {}\".format(area))\n",
    "    print(\"The volume of the cylinder is: {}\".format(volume))\n",
    "\n",
    "# Call the function\n",
    "calculate_cylinder_properties()"
   ]
  },
  {
   "cell_type": "code",
   "execution_count": 5,
   "id": "ef0fbdb5-6f36-4e0f-a534-3165978bf36e",
   "metadata": {},
   "outputs": [
    {
     "name": "stdin",
     "output_type": "stream",
     "text": [
      "Enter a number in feet:  5\n"
     ]
    },
    {
     "name": "stdout",
     "output_type": "stream",
     "text": [
      "The number in meters is: 1\n"
     ]
    }
   ],
   "source": [
    "def convert_feet_to_meters():\n",
    "    # Ask the user to enter a number in feet\n",
    "    feet = float(input(\"Enter a number in feet: \"))\n",
    "\n",
    "    # Convert it to meters\n",
    "    meters = feet * 0.305\n",
    "\n",
    "    # Print out the result\n",
    "    print(\"The number in meters is: %d\" % meters)\n",
    "\n",
    "# Call the function\n",
    "convert_feet_to_meters()"
   ]
  },
  {
   "cell_type": "code",
   "execution_count": 6,
   "id": "7153b03f-2ef3-40d3-8488-63dc8385c788",
   "metadata": {},
   "outputs": [
    {
     "name": "stdin",
     "output_type": "stream",
     "text": [
      "Enter a number in pounds:  75\n"
     ]
    },
    {
     "name": "stdout",
     "output_type": "stream",
     "text": [
      "The number in kilograms is: 34.050000000000004\n"
     ]
    }
   ],
   "source": [
    "def convert_pounds_to_kilograms():\n",
    "    # Ask the user to enter a number in pounds\n",
    "    pounds = float(input(\"Enter a number in pounds: \"))\n",
    "\n",
    "    # Convert it to kilograms\n",
    "    kilograms = pounds * 0.454\n",
    "\n",
    "    # Print out the result\n",
    "    print(\"The number in kilograms is: {}\".format(kilograms))\n",
    "\n",
    "# Call the function\n",
    "convert_pounds_to_kilograms()"
   ]
  },
  {
   "cell_type": "code",
   "execution_count": 8,
   "id": "a3e06c07-10a4-420d-91bf-4a42940b8505",
   "metadata": {},
   "outputs": [
    {
     "name": "stdin",
     "output_type": "stream",
     "text": [
      "Enter your password:  password123\n"
     ]
    },
    {
     "name": "stdout",
     "output_type": "stream",
     "text": [
      "You are logged in to the system.\n"
     ]
    }
   ],
   "source": [
    "def login_system():\n",
    "    # Set the correct password\n",
    "    correct_password = \"password123\"\n",
    "\n",
    "    # Give the user five tries to enter the password\n",
    "    for i in range(5):\n",
    "        # Ask the user to enter a password\n",
    "        entered_password = input(\"Enter your password: \")\n",
    "\n",
    "        # Check if the entered password is correct\n",
    "        if entered_password == correct_password:\n",
    "            print(\"You are logged in to the system.\")\n",
    "            return\n",
    "        else:\n",
    "            print(\"Incorrect password. Please try again.\")\n",
    "\n",
    "    # If the user fails to enter the correct password after five tries, kick them off the system\n",
    "    print(\"You have been kicked off the system.\")\n",
    "\n",
    "# Call the function\n",
    "login_system()"
   ]
  },
  {
   "cell_type": "code",
   "execution_count": 9,
   "id": "9e501628-c265-4fab-b9c7-3b24e7e499a2",
   "metadata": {},
   "outputs": [
    {
     "name": "stdin",
     "output_type": "stream",
     "text": [
      "Enter a weight in kilograms:  75\n"
     ]
    },
    {
     "name": "stdout",
     "output_type": "stream",
     "text": [
      "The weight in pounds is: 165.3465\n"
     ]
    }
   ],
   "source": [
    "def convert_kg_to_pounds():\n",
    "    while True:\n",
    "        # Ask the user to enter a weight in kilograms\n",
    "        weight_kg = float(input(\"Enter a weight in kilograms: \"))\n",
    "\n",
    "        # Check if the entered weight is below 0\n",
    "        if weight_kg < 0:\n",
    "            print(\"Your entry is invalid. Weight cannot be negative.\")\n",
    "        else:\n",
    "            # Convert the weight to pounds\n",
    "            weight_pounds = weight_kg * 2.20462\n",
    "\n",
    "            # Print out the result\n",
    "            print(\"The weight in pounds is: {}\".format(weight_pounds))\n",
    "            break\n",
    "\n",
    "# Call the function\n",
    "convert_kg_to_pounds()"
   ]
  },
  {
   "cell_type": "code",
   "execution_count": 10,
   "id": "5953c9af-07eb-4926-aa08-3c080d60d3c3",
   "metadata": {},
   "outputs": [
    {
     "name": "stdin",
     "output_type": "stream",
     "text": [
      "Enter the grade for subject 1:  85\n",
      "Enter the grade for subject 2:  82\n",
      "Enter the grade for subject 3:  86\n",
      "Enter the grade for subject 4:  81\n",
      "Enter the grade for subject 5:  80\n"
     ]
    },
    {
     "name": "stdout",
     "output_type": "stream",
     "text": [
      "The average grade is: 82.80\n"
     ]
    }
   ],
   "source": [
    "def calculate_average_grade():\n",
    "    # Ask the user to input grades in 5 different subjects\n",
    "    grades = []\n",
    "    for i in range(1, 6):\n",
    "        grade = float(input(\"Enter the grade for subject {}: \".format(i)))\n",
    "        grades.append(grade)\n",
    "\n",
    "    # Calculate the average grade\n",
    "    average_grade = sum(grades) / len(grades)\n",
    "\n",
    "    # Print out the average grade\n",
    "    print(\"The average grade is: {:.2f}\".format(average_grade))\n",
    "\n",
    "# Call the function\n",
    "calculate_average_grade()"
   ]
  },
  {
   "cell_type": "code",
   "execution_count": 1,
   "id": "e9f2189a-1acf-4497-905d-3efd2db70882",
   "metadata": {},
   "outputs": [
    {
     "name": "stdin",
     "output_type": "stream",
     "text": [
      "Enter the employee's name:  Johnny English \n",
      "Enter the number of hours worked in a week:  40\n",
      "Enter the hourly pay rate:  60\n",
      "Enter the deductions:  5\n"
     ]
    },
    {
     "name": "stdout",
     "output_type": "stream",
     "text": [
      "Employee's name: Johnny English \n",
      "Number of hours worked in a week: 40.0\n",
      "Hourly pay rate: 60.0\n",
      "Gross Pay: 2400.0\n",
      "Deductions: 5.0\n",
      "Net Pay: 2395.0\n"
     ]
    }
   ],
   "source": [
    "def print_payroll():\n",
    "    # Ask the user to enter the employee's name\n",
    "    name = input(\"Enter the employee's name: \")\n",
    "\n",
    "    # Ask the user to enter the number of hours worked in a week\n",
    "    hours_worked = float(input(\"Enter the number of hours worked in a week: \"))\n",
    "\n",
    "    # Ask the user to enter the hourly pay rate\n",
    "    pay_rate = float(input(\"Enter the hourly pay rate: \"))\n",
    "\n",
    "    # Calculate the gross pay\n",
    "    gross_pay = hours_worked * pay_rate\n",
    "\n",
    "    # Ask the user to enter the deductions\n",
    "    deductions = float(input(\"Enter the deductions: \"))\n",
    "\n",
    "    # Calculate the net pay\n",
    "    net_pay = gross_pay - deductions\n",
    "\n",
    "    # Print the payroll\n",
    "    print(\"Employee's name: {}\".format(name))\n",
    "    print(\"Number of hours worked in a week: {}\".format(hours_worked))\n",
    "    print(\"Hourly pay rate: {}\".format(pay_rate))\n",
    "    print(\"Gross Pay: {}\".format(gross_pay))\n",
    "    print(\"Deductions: {}\".format(deductions))\n",
    "    print(\"Net Pay: {}\".format(net_pay))\n",
    "\n",
    "# Call the function\n",
    "print_payroll()"
   ]
  },
  {
   "cell_type": "code",
   "execution_count": 2,
   "id": "9ad3cd52-ec60-4c58-b319-1dddd2b10f48",
   "metadata": {},
   "outputs": [
    {
     "name": "stdin",
     "output_type": "stream",
     "text": [
      "Enter a string:  Johnny\n"
     ]
    },
    {
     "name": "stdout",
     "output_type": "stream",
     "text": [
      "The reversed string is: ynnhoJ\n"
     ]
    }
   ],
   "source": [
    "def reverse_string():\n",
    "    # Ask the user to enter a string\n",
    "    s = input(\"Enter a string: \")\n",
    "\n",
    "    # Reverse the string\n",
    "    reversed_s = s[::-1]\n",
    "\n",
    "    # Print out the reversed string\n",
    "    print(\"The reversed string is: {}\".format(reversed_s))\n",
    "\n",
    "# Call the function\n",
    "reverse_string()"
   ]
  },
  {
   "cell_type": "code",
   "execution_count": 3,
   "id": "367902a7-5f5d-4f0a-9da0-b2d9b773a513",
   "metadata": {},
   "outputs": [
    {
     "name": "stdout",
     "output_type": "stream",
     "text": [
      "The even numbers in the list are:\n",
      "Number 1: 4\n",
      "Number 2: 78\n",
      "Number 4: 66\n",
      "Number 7: 56\n",
      "Number 9: 2\n"
     ]
    }
   ],
   "source": [
    "def print_even_numbers():\n",
    "    # Given list\n",
    "    L = [4,78,23,66,23,89,56,21,2]\n",
    "\n",
    "    # Print the even numbers from the given list\n",
    "    print(\"The even numbers in the list are:\")\n",
    "    for i, num in enumerate(L):\n",
    "        if num % 2 == 0:\n",
    "            print(\"Number {0}: {1}\".format(i+1, num))\n",
    "\n",
    "# Call the function\n",
    "print_even_numbers()"
   ]
  },
  {
   "cell_type": "code",
   "execution_count": 4,
   "id": "0078a3c9-37fd-4680-9078-a6c0a929e86a",
   "metadata": {},
   "outputs": [
    {
     "name": "stdin",
     "output_type": "stream",
     "text": [
      "Enter a string:  Merry\n"
     ]
    },
    {
     "name": "stdout",
     "output_type": "stream",
     "text": [
      "The string is not a palindrome.\n"
     ]
    }
   ],
   "source": [
    "def is_palindrome():\n",
    "    # Ask the user to enter a string\n",
    "    s = input(\"Enter a string: \")\n",
    "\n",
    "    # Remove spaces from the string\n",
    "    s = s.replace(\" \", \"\")\n",
    "\n",
    "    # Check if the string is a palindrome\n",
    "    if s == s[::-1]:\n",
    "        print(\"The string is a palindrome.\")\n",
    "    else:\n",
    "        print(\"The string is not a palindrome.\")\n",
    "\n",
    "# Call the function\n",
    "is_palindrome()"
   ]
  },
  {
   "cell_type": "code",
   "execution_count": 5,
   "id": "4c26052f-cdd2-4d33-8722-71efb2ae1faf",
   "metadata": {},
   "outputs": [
    {
     "name": "stdout",
     "output_type": "stream",
     "text": [
      "The largest item in the list is: 24\n"
     ]
    }
   ],
   "source": [
    "def find_largest_item():\n",
    "    # Given list\n",
    "    x = [4, 6, 8, 24, 12, 2]\n",
    "\n",
    "    # Find the largest item in the list\n",
    "    largest_item = max(x)\n",
    "\n",
    "    # Print the largest item\n",
    "    print(\"The largest item in the list is: {}\".format(largest_item))\n",
    "\n",
    "# Call the function\n",
    "find_largest_item()"
   ]
  },
  {
   "cell_type": "code",
   "execution_count": 6,
   "id": "a4acc36d-d14a-473c-a5c7-b882f9d4ef5f",
   "metadata": {},
   "outputs": [
    {
     "name": "stdout",
     "output_type": "stream",
     "text": [
      "Is the number 4 even? True\n"
     ]
    }
   ],
   "source": [
    "def even(n):\n",
    "    # Check if the number is divisible by 2\n",
    "    if n % 2 == 0:\n",
    "        return True\n",
    "    else:\n",
    "        return False\n",
    "\n",
    "# Test the function\n",
    "num = 4\n",
    "print(\"Is the number {0} even? {1}\".format(num, even(num)))"
   ]
  },
  {
   "cell_type": "code",
   "execution_count": 7,
   "id": "f6ba3b94-bf03-45f9-8eaa-d0723fe0d6c9",
   "metadata": {},
   "outputs": [
    {
     "name": "stdout",
     "output_type": "stream",
     "text": [
      "The sum of all numbers from 1 to 5 is: 15\n"
     ]
    }
   ],
   "source": [
    "def sum(low, high):\n",
    "    # Compute the sum of all numbers between low and high, inclusive\n",
    "    total = 0\n",
    "    for i in range(low, high+1):\n",
    "        total += i\n",
    "\n",
    "    # Return the sum\n",
    "    return total\n",
    "\n",
    "# Test the function\n",
    "low = 1\n",
    "high = 5\n",
    "print(\"The sum of all numbers from {0} to {1} is: {2}\".format(low, high, sum(low, high)))"
   ]
  },
  {
   "cell_type": "code",
   "execution_count": 8,
   "id": "a3075525-1441-491d-90a6-88e5b48f8bf4",
   "metadata": {},
   "outputs": [
    {
     "name": "stdout",
     "output_type": "stream",
     "text": [
      "The result of the first function for 10 is: 15\n",
      "The result of the second function for 10 is: 30\n"
     ]
    }
   ],
   "source": [
    "def f_1(num):\n",
    "    # This function takes a number as input and returns that number + 5\n",
    "    return num + 5\n",
    "\n",
    "def f_2(num):\n",
    "    # This function takes a number as input and returns first function's result multiplied by 2\n",
    "    return f_1(num) * 2\n",
    "\n",
    "# Test the functions\n",
    "num = 10\n",
    "print(\"The result of the first function for {0} is: {1}\".format(num, f_1(num)))\n",
    "print(\"The result of the second function for {0} is: {1}\".format(num, f_2(num)))\n"
   ]
  },
  {
   "cell_type": "code",
   "execution_count": 13,
   "id": "8c7518d6-77b5-434c-a379-60bcb22f9848",
   "metadata": {},
   "outputs": [
    {
     "name": "stdout",
     "output_type": "stream",
     "text": [
      "The sum of the numbers in the list is: 15\n"
     ]
    }
   ],
   "source": [
    "def sum_numbers(numbers):\n",
    "    total = 0\n",
    "    for num in numbers:\n",
    "        total += num\n",
    "    print(\"The sum of the numbers in the list is: %d\" % total)\n",
    "\n",
    "# Example usage:\n",
    "my_list = [1, 2, 3, 4, 5]\n",
    "sum_numbers(my_list)"
   ]
  },
  {
   "cell_type": "code",
   "execution_count": 14,
   "id": "70c37ad0-9430-4aec-972c-2a5ec271f264",
   "metadata": {},
   "outputs": [
    {
     "name": "stdout",
     "output_type": "stream",
     "text": [
      "The product of all numbers in the list is: 3840\n"
     ]
    }
   ],
   "source": [
    "def multiply_numbers(numbers):\n",
    "    # Compute the product of all numbers in the list\n",
    "    total = 1\n",
    "    for num in numbers:\n",
    "        total *= num\n",
    "\n",
    "    # Print the product\n",
    "    print(\"The product of all numbers in the list is: %d\" % total)\n",
    "\n",
    "# Test the function\n",
    "numbers = [2, 4, 6, 8, 10]\n",
    "multiply_numbers(numbers)"
   ]
  },
  {
   "cell_type": "code",
   "execution_count": 15,
   "id": "bb3e3697-2b6e-4181-abe5-c554725f0fbd",
   "metadata": {},
   "outputs": [
    {
     "name": "stdout",
     "output_type": "stream",
     "text": [
      "The cost for 5 nights is: 700\n"
     ]
    }
   ],
   "source": [
    "def hotel_cost(nights):\n",
    "    # The hotel costs 140 per night\n",
    "    cost = 140 * nights\n",
    "\n",
    "    # Return the cost\n",
    "    return cost\n",
    "\n",
    "# Test the function\n",
    "nights = 5\n",
    "print(\"The cost for {} nights is: {}\".format(nights, hotel_cost(nights)))"
   ]
  },
  {
   "cell_type": "code",
   "execution_count": 16,
   "id": "52f4b146-b951-4544-816d-14dfe5d4aaf9",
   "metadata": {},
   "outputs": [
    {
     "name": "stdout",
     "output_type": "stream",
     "text": [
      "The round-trip price for Japan is: 18,300\n",
      "The round-trip price for South Korea is: 22,000\n",
      "The round-trip price for Canada is: 22,200\n",
      "The round-trip price for Los Angeles is: 47,500\n"
     ]
    },
    {
     "data": {
      "text/plain": [
       "47500"
      ]
     },
     "execution_count": 16,
     "metadata": {},
     "output_type": "execute_result"
    }
   ],
   "source": [
    "def plane_ride_cost(country):\n",
    "    prices = {\n",
    "        \"Japan\": 18300,\n",
    "        \"South Korea\": 22000,\n",
    "        \"Canada\": 22200,\n",
    "        \"Los Angeles\": 47500\n",
    "    }\n",
    "\n",
    "    if country in prices:\n",
    "        price = prices[country]\n",
    "        print(\"The round-trip price for {} is: {:,}\".format(country, price))\n",
    "        return price\n",
    "    else:\n",
    "        print(\"Invalid country provided.\")\n",
    "        return None\n",
    "\n",
    "# Example usage:\n",
    "plane_ride_cost(\"Japan\")\n",
    "plane_ride_cost(\"South Korea\")\n",
    "plane_ride_cost(\"Canada\")\n",
    "plane_ride_cost(\"Los Angeles\")"
   ]
  },
  {
   "cell_type": "code",
   "execution_count": null,
   "id": "110432de-a43f-48d3-9247-be29743e5568",
   "metadata": {},
   "outputs": [],
   "source": []
  }
 ],
 "metadata": {
  "kernelspec": {
   "display_name": "Python 3 (ipykernel)",
   "language": "python",
   "name": "python3"
  },
  "language_info": {
   "codemirror_mode": {
    "name": "ipython",
    "version": 3
   },
   "file_extension": ".py",
   "mimetype": "text/x-python",
   "name": "python",
   "nbconvert_exporter": "python",
   "pygments_lexer": "ipython3",
   "version": "3.11.7"
  }
 },
 "nbformat": 4,
 "nbformat_minor": 5
}
